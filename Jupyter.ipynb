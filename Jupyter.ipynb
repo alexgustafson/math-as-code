{
 "cells": [
  {
   "cell_type": "markdown",
   "metadata": {},
   "source": [
    "# Math as code\n",
    "\n",
    "This is a reference to ease developers into mathematical notation by showing comparisons with JavaScript code.\n",
    "\n",
    "Motivation: Academic papers can be intimidating for self-taught game and graphics programmers. :)\n",
    "\n",
    "This guide is not yet finished. If you see errors or want to contribute, please open a ticket or send a PR.\n",
    "\n",
    "> Note: This example uses Python and `numpy` to perform math. The code below sets up the environment by importing the modules we need."
   ]
  },
  {
   "cell_type": "code",
   "execution_count": 1,
   "metadata": {
    "collapsed": true
   },
   "outputs": [],
   "source": [
    "import numpy"
   ]
  },
  {
   "cell_type": "markdown",
   "metadata": {},
   "source": [
    "## Sigma\n",
    "\n",
    "The big Greek \"E\" (Sigma) is for Summation. In other words: summing up some numbers.\n",
    "\n",
    "$x = \\sum\\limits_{i=1}^{100} i$\n",
    "\n",
    "Here, $i = 1$ says to start at $1$ and end at the number above the Sigma, $100$. These are the lower and upper bounds, respectively. The $i$ to the right of the $\\sum$ tells us what we are summing. In code:\n"
   ]
  },
  {
   "cell_type": "code",
   "execution_count": 2,
   "metadata": {
    "collapsed": false
   },
   "outputs": [
    {
     "name": "stdout",
     "output_type": "stream",
     "text": [
      "5050\n"
     ]
    }
   ],
   "source": [
    "i = 1; n = 100\n",
    "x = 0\n",
    "while i <= n:\n",
    "    x += i\n",
    "    i += 1\n",
    "print(x)"
   ]
  },
  {
   "cell_type": "markdown",
   "metadata": {},
   "source": [
    "## Determinant\n",
    "\n",
    "For a matrix $A$, $|A|$ means the determinant of matrix $A$.\n",
    "\n",
    "$|A| = \\begin{vmatrix} 1 & 2\\\\3 & 4\\end{vmatrix}$\n",
    "\n",
    "Here is an example computing the determinant of a 2x2 matrix."
   ]
  },
  {
   "cell_type": "code",
   "execution_count": 4,
   "metadata": {
    "collapsed": false
   },
   "outputs": [
    {
     "name": "stdout",
     "output_type": "stream",
     "text": [
      "-2.0\n"
     ]
    }
   ],
   "source": [
    "A = numpy.array([[1, 2], [3, 4]])\n",
    "print(numpy.linalg.det(A))"
   ]
  },
  {
   "cell_type": "code",
   "execution_count": null,
   "metadata": {
    "collapsed": true
   },
   "outputs": [],
   "source": []
  }
 ],
 "metadata": {
  "kernelspec": {
   "display_name": "Python 3",
   "language": "python",
   "name": "python3"
  },
  "language_info": {
   "codemirror_mode": {
    "name": "ipython",
    "version": 3
   },
   "file_extension": ".py",
   "mimetype": "text/x-python",
   "name": "python",
   "nbconvert_exporter": "python",
   "pygments_lexer": "ipython3",
   "version": "3.4.3"
  }
 },
 "nbformat": 4,
 "nbformat_minor": 0
}
